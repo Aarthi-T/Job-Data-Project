{
 "cells": [
  {
   "cell_type": "code",
   "execution_count": 1,
   "metadata": {},
   "outputs": [
    {
     "name": "stdout",
     "output_type": "stream",
     "text": [
      "Intel MKL WARNING: Support of Intel(R) Streaming SIMD Extensions 4.2 (Intel(R) SSE4.2) enabled only processors has been deprecated. Intel oneAPI Math Kernel Library 2025.0 will require Intel(R) Advanced Vector Extensions (Intel(R) AVX) instructions.\n",
      "Intel MKL WARNING: Support of Intel(R) Streaming SIMD Extensions 4.2 (Intel(R) SSE4.2) enabled only processors has been deprecated. Intel oneAPI Math Kernel Library 2025.0 will require Intel(R) Advanced Vector Extensions (Intel(R) AVX) instructions.\n"
     ]
    }
   ],
   "source": [
    "import pandas as pd\n",
    "import matplotlib.pyplot as plt\n",
    "from datasets import load_dataset\n",
    "data = load_dataset('lukebarousse/data_jobs')\n",
    "df = data['train'].to_pandas()\n",
    "df['job_posted_date'] = pd.to_datetime(df['job_posted_date'])"
   ]
  },
  {
   "cell_type": "code",
   "execution_count": 2,
   "metadata": {},
   "outputs": [],
   "source": [
    "median_year_salary = df['salary_year_avg'].median()\n",
    "median_hour_salary = df['salary_hour_avg'].median()"
   ]
  },
  {
   "cell_type": "code",
   "execution_count": 7,
   "metadata": {},
   "outputs": [],
   "source": [
    "df_filled = df\n",
    "\n",
    "df_filled['salary_year_avg'] = df_filled['salary_year_avg'].fillna(median_year_salary)\n",
    "df_filled['salary_hour_avg'] = df_filled['salary_hour_avg'].fillna(median_hour_salary)"
   ]
  },
  {
   "cell_type": "code",
   "execution_count": 9,
   "metadata": {},
   "outputs": [],
   "source": [
    "df_unique = df_filled\n",
    "df_unique = df_unique.drop_duplicates()"
   ]
  },
  {
   "cell_type": "code",
   "execution_count": 10,
   "metadata": {},
   "outputs": [
    {
     "name": "stdout",
     "output_type": "stream",
     "text": [
      "Length of original dataframe:  785741\n",
      "Length of drop dataframe:  785640\n",
      "Rows dropped:  101\n"
     ]
    }
   ],
   "source": [
    "print('Length of original dataframe: ', len(df))\n",
    "print('Length of drop dataframe: ', len(df_unique))\n",
    "print('Rows dropped: ', len(df) - len(df_unique))"
   ]
  },
  {
   "cell_type": "code",
   "execution_count": 14,
   "metadata": {},
   "outputs": [
    {
     "name": "stdout",
     "output_type": "stream",
     "text": [
      "Length of original dataframe:  785741\n",
      "Length of drop dataframe:  508042\n",
      "Rows dropped:  277699\n"
     ]
    }
   ],
   "source": [
    "df_unique = df_unique.drop_duplicates(subset=['job_title','company_name'])\n",
    "\n",
    "print('Length of original dataframe: ', len(df))\n",
    "print('Length of drop dataframe: ', len(df_unique))\n",
    "print('Rows dropped: ', len(df) - len(df_unique))"
   ]
  }
 ],
 "metadata": {
  "kernelspec": {
   "display_name": "jobs-analysis",
   "language": "python",
   "name": "python3"
  },
  "language_info": {
   "codemirror_mode": {
    "name": "ipython",
    "version": 3
   },
   "file_extension": ".py",
   "mimetype": "text/x-python",
   "name": "python",
   "nbconvert_exporter": "python",
   "pygments_lexer": "ipython3",
   "version": "3.11.9"
  }
 },
 "nbformat": 4,
 "nbformat_minor": 2
}
