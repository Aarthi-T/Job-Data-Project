{
 "cells": [
  {
   "cell_type": "markdown",
   "metadata": {},
   "source": [
    "## Salary Distribution by Job title"
   ]
  },
  {
   "cell_type": "markdown",
   "metadata": {},
   "source": [
    "### Importing libraries and data"
   ]
  },
  {
   "cell_type": "code",
   "execution_count": null,
   "metadata": {},
   "outputs": [
    {
     "name": "stdout",
     "output_type": "stream",
     "text": [
      "Intel MKL WARNING: Support of Intel(R) Streaming SIMD Extensions 4.2 (Intel(R) SSE4.2) enabled only processors has been deprecated. Intel oneAPI Math Kernel Library 2025.0 will require Intel(R) Advanced Vector Extensions (Intel(R) AVX) instructions.\n",
      "Intel MKL WARNING: Support of Intel(R) Streaming SIMD Extensions 4.2 (Intel(R) SSE4.2) enabled only processors has been deprecated. Intel oneAPI Math Kernel Library 2025.0 will require Intel(R) Advanced Vector Extensions (Intel(R) AVX) instructions.\n"
     ]
    }
   ],
   "source": [
    "import pandas as pd\n",
    "import matplotlib.pyplot as plt\n",
    "import ast\n",
    "import seaborn as sns\n",
    "from datasets import load_dataset\n",
    "\n",
    "data = load_dataset('lukebarousse/data_jobs')\n",
    "df = data['train'].to_pandas()\n",
    "\n",
    "df['job_posted_date'] = pd.to_datetime(df['job_posted_date'])\n",
    "df['job_skills'] = df['job_skills'].apply(lambda skill_list : ast.literal_eval(skill_list) if pd.notna(skill_list) else skill_list)"
   ]
  },
  {
   "cell_type": "markdown",
   "metadata": {},
   "source": [
    "### Filter the data for United States and drop the null values"
   ]
  },
  {
   "cell_type": "code",
   "execution_count": null,
   "metadata": {},
   "outputs": [
    {
     "data": {
      "text/html": [
       "<div>\n",
       "<style scoped>\n",
       "    .dataframe tbody tr th:only-of-type {\n",
       "        vertical-align: middle;\n",
       "    }\n",
       "\n",
       "    .dataframe tbody tr th {\n",
       "        vertical-align: top;\n",
       "    }\n",
       "\n",
       "    .dataframe thead th {\n",
       "        text-align: right;\n",
       "    }\n",
       "</style>\n",
       "<table border=\"1\" class=\"dataframe\">\n",
       "  <thead>\n",
       "    <tr style=\"text-align: right;\">\n",
       "      <th></th>\n",
       "      <th>job_title_short</th>\n",
       "      <th>job_title</th>\n",
       "      <th>job_location</th>\n",
       "      <th>job_via</th>\n",
       "      <th>job_schedule_type</th>\n",
       "      <th>job_work_from_home</th>\n",
       "      <th>search_location</th>\n",
       "      <th>job_posted_date</th>\n",
       "      <th>job_no_degree_mention</th>\n",
       "      <th>job_health_insurance</th>\n",
       "      <th>job_country</th>\n",
       "      <th>salary_rate</th>\n",
       "      <th>salary_year_avg</th>\n",
       "      <th>salary_hour_avg</th>\n",
       "      <th>company_name</th>\n",
       "      <th>job_skills</th>\n",
       "      <th>job_type_skills</th>\n",
       "    </tr>\n",
       "  </thead>\n",
       "  <tbody>\n",
       "    <tr>\n",
       "      <th>92</th>\n",
       "      <td>Data Engineer</td>\n",
       "      <td>Remote - Data Engineer - Permanent - W2</td>\n",
       "      <td>Anywhere</td>\n",
       "      <td>via LinkedIn</td>\n",
       "      <td>Full-time</td>\n",
       "      <td>True</td>\n",
       "      <td>Illinois, United States</td>\n",
       "      <td>2023-02-21 13:29:59</td>\n",
       "      <td>False</td>\n",
       "      <td>True</td>\n",
       "      <td>United States</td>\n",
       "      <td>year</td>\n",
       "      <td>120000.0</td>\n",
       "      <td>NaN</td>\n",
       "      <td>Apex Systems</td>\n",
       "      <td>[sql, python]</td>\n",
       "      <td>{'programming': ['sql', 'python']}</td>\n",
       "    </tr>\n",
       "    <tr>\n",
       "      <th>100</th>\n",
       "      <td>Data Scientist</td>\n",
       "      <td>Data Scientist, Risk Data Mining - USDS</td>\n",
       "      <td>Mountain View, CA</td>\n",
       "      <td>via LinkedIn</td>\n",
       "      <td>Full-time</td>\n",
       "      <td>False</td>\n",
       "      <td>California, United States</td>\n",
       "      <td>2023-07-31 13:01:18</td>\n",
       "      <td>False</td>\n",
       "      <td>True</td>\n",
       "      <td>United States</td>\n",
       "      <td>year</td>\n",
       "      <td>228222.0</td>\n",
       "      <td>NaN</td>\n",
       "      <td>TikTok</td>\n",
       "      <td>[sql, r, python, express]</td>\n",
       "      <td>{'programming': ['sql', 'r', 'python'], 'webfr...</td>\n",
       "    </tr>\n",
       "    <tr>\n",
       "      <th>109</th>\n",
       "      <td>Data Analyst</td>\n",
       "      <td>Senior Supply Chain Analytics Analyst</td>\n",
       "      <td>Anywhere</td>\n",
       "      <td>via Get.It</td>\n",
       "      <td>Full-time</td>\n",
       "      <td>True</td>\n",
       "      <td>Illinois, United States</td>\n",
       "      <td>2023-10-12 13:02:19</td>\n",
       "      <td>False</td>\n",
       "      <td>True</td>\n",
       "      <td>United States</td>\n",
       "      <td>year</td>\n",
       "      <td>89000.0</td>\n",
       "      <td>NaN</td>\n",
       "      <td>Get It Recruit - Transportation</td>\n",
       "      <td>[python, r, alteryx, tableau]</td>\n",
       "      <td>{'analyst_tools': ['alteryx', 'tableau'], 'pro...</td>\n",
       "    </tr>\n",
       "    <tr>\n",
       "      <th>116</th>\n",
       "      <td>Data Scientist</td>\n",
       "      <td>Data Scientist</td>\n",
       "      <td>Anywhere</td>\n",
       "      <td>via LinkedIn</td>\n",
       "      <td>Full-time</td>\n",
       "      <td>True</td>\n",
       "      <td>Texas, United States</td>\n",
       "      <td>2023-10-04 13:04:23</td>\n",
       "      <td>False</td>\n",
       "      <td>False</td>\n",
       "      <td>United States</td>\n",
       "      <td>year</td>\n",
       "      <td>114000.0</td>\n",
       "      <td>NaN</td>\n",
       "      <td>4 Corner Resources</td>\n",
       "      <td>[r, python, sql, t-sql, hadoop, spark, tableau]</td>\n",
       "      <td>{'analyst_tools': ['tableau'], 'libraries': ['...</td>\n",
       "    </tr>\n",
       "    <tr>\n",
       "      <th>146</th>\n",
       "      <td>Data Engineer</td>\n",
       "      <td>Data Engineer Graduate (Real Time Communicatio...</td>\n",
       "      <td>Seattle, WA</td>\n",
       "      <td>via LinkedIn</td>\n",
       "      <td>Full-time</td>\n",
       "      <td>False</td>\n",
       "      <td>California, United States</td>\n",
       "      <td>2023-10-21 13:06:16</td>\n",
       "      <td>False</td>\n",
       "      <td>True</td>\n",
       "      <td>United States</td>\n",
       "      <td>year</td>\n",
       "      <td>129500.0</td>\n",
       "      <td>NaN</td>\n",
       "      <td>ByteDance</td>\n",
       "      <td>[golang, scala, python, java, hadoop, spark]</td>\n",
       "      <td>{'libraries': ['hadoop', 'spark'], 'programmin...</td>\n",
       "    </tr>\n",
       "    <tr>\n",
       "      <th>...</th>\n",
       "      <td>...</td>\n",
       "      <td>...</td>\n",
       "      <td>...</td>\n",
       "      <td>...</td>\n",
       "      <td>...</td>\n",
       "      <td>...</td>\n",
       "      <td>...</td>\n",
       "      <td>...</td>\n",
       "      <td>...</td>\n",
       "      <td>...</td>\n",
       "      <td>...</td>\n",
       "      <td>...</td>\n",
       "      <td>...</td>\n",
       "      <td>...</td>\n",
       "      <td>...</td>\n",
       "      <td>...</td>\n",
       "      <td>...</td>\n",
       "    </tr>\n",
       "    <tr>\n",
       "      <th>785563</th>\n",
       "      <td>Data Scientist</td>\n",
       "      <td>Data Scientist I/II (Model Risk Management &amp; M...</td>\n",
       "      <td>Pensacola, FL</td>\n",
       "      <td>via Navy Federal Credit Union - Talentify</td>\n",
       "      <td>Full-time</td>\n",
       "      <td>False</td>\n",
       "      <td>Florida, United States</td>\n",
       "      <td>2023-01-11 06:22:10</td>\n",
       "      <td>False</td>\n",
       "      <td>False</td>\n",
       "      <td>United States</td>\n",
       "      <td>year</td>\n",
       "      <td>136400.0</td>\n",
       "      <td>NaN</td>\n",
       "      <td>Navy Federal Credit Union</td>\n",
       "      <td>[r, python, matplotlib, ggplot2, spark, word, ...</td>\n",
       "      <td>{'analyst_tools': ['word', 'power bi', 'tablea...</td>\n",
       "    </tr>\n",
       "    <tr>\n",
       "      <th>785624</th>\n",
       "      <td>Data Engineer</td>\n",
       "      <td>Data Analytics Engineer (Hybrid)</td>\n",
       "      <td>Mt Prospect, IL</td>\n",
       "      <td>via Ai-Jobs.net</td>\n",
       "      <td>Full-time</td>\n",
       "      <td>False</td>\n",
       "      <td>Illinois, United States</td>\n",
       "      <td>2023-08-31 06:02:16</td>\n",
       "      <td>False</td>\n",
       "      <td>True</td>\n",
       "      <td>United States</td>\n",
       "      <td>year</td>\n",
       "      <td>139216.0</td>\n",
       "      <td>NaN</td>\n",
       "      <td>Bosch Group</td>\n",
       "      <td>[go, python, r, sql, oracle, windows, alteryx,...</td>\n",
       "      <td>{'analyst_tools': ['alteryx', 'power bi', 'tab...</td>\n",
       "    </tr>\n",
       "    <tr>\n",
       "      <th>785641</th>\n",
       "      <td>Data Engineer</td>\n",
       "      <td>Data Engineer</td>\n",
       "      <td>New York, NY</td>\n",
       "      <td>via Dice</td>\n",
       "      <td>Full-time</td>\n",
       "      <td>False</td>\n",
       "      <td>Georgia</td>\n",
       "      <td>2023-01-04 16:36:07</td>\n",
       "      <td>True</td>\n",
       "      <td>False</td>\n",
       "      <td>United States</td>\n",
       "      <td>year</td>\n",
       "      <td>150000.0</td>\n",
       "      <td>NaN</td>\n",
       "      <td>Engage Partners, Inc.</td>\n",
       "      <td>None</td>\n",
       "      <td>None</td>\n",
       "    </tr>\n",
       "    <tr>\n",
       "      <th>785648</th>\n",
       "      <td>Data Scientist</td>\n",
       "      <td>Director Data Scientist - Commercial Platforms...</td>\n",
       "      <td>Pleasant Hill, CA</td>\n",
       "      <td>via Ai-Jobs.net</td>\n",
       "      <td>Full-time</td>\n",
       "      <td>False</td>\n",
       "      <td>California, United States</td>\n",
       "      <td>2023-04-12 06:02:51</td>\n",
       "      <td>False</td>\n",
       "      <td>True</td>\n",
       "      <td>United States</td>\n",
       "      <td>year</td>\n",
       "      <td>221875.0</td>\n",
       "      <td>NaN</td>\n",
       "      <td>84.51°</td>\n",
       "      <td>[python, azure, snowflake, spark]</td>\n",
       "      <td>{'cloud': ['azure', 'snowflake'], 'libraries':...</td>\n",
       "    </tr>\n",
       "    <tr>\n",
       "      <th>785692</th>\n",
       "      <td>Data Scientist</td>\n",
       "      <td>Data Scientist- Hybrid Work Location</td>\n",
       "      <td>Dayton, OH</td>\n",
       "      <td>via Ai-Jobs.net</td>\n",
       "      <td>Full-time</td>\n",
       "      <td>False</td>\n",
       "      <td>Illinois, United States</td>\n",
       "      <td>2023-04-21 06:02:31</td>\n",
       "      <td>False</td>\n",
       "      <td>True</td>\n",
       "      <td>United States</td>\n",
       "      <td>year</td>\n",
       "      <td>157500.0</td>\n",
       "      <td>NaN</td>\n",
       "      <td>Tenet3</td>\n",
       "      <td>[python, matlab, r]</td>\n",
       "      <td>{'programming': ['python', 'matlab', 'r']}</td>\n",
       "    </tr>\n",
       "  </tbody>\n",
       "</table>\n",
       "<p>15766 rows × 17 columns</p>\n",
       "</div>"
      ],
      "text/plain": [
       "       job_title_short                                          job_title  \\\n",
       "92       Data Engineer            Remote - Data Engineer - Permanent - W2   \n",
       "100     Data Scientist            Data Scientist, Risk Data Mining - USDS   \n",
       "109       Data Analyst              Senior Supply Chain Analytics Analyst   \n",
       "116     Data Scientist                                     Data Scientist   \n",
       "146      Data Engineer  Data Engineer Graduate (Real Time Communicatio...   \n",
       "...                ...                                                ...   \n",
       "785563  Data Scientist  Data Scientist I/II (Model Risk Management & M...   \n",
       "785624   Data Engineer                   Data Analytics Engineer (Hybrid)   \n",
       "785641   Data Engineer                                      Data Engineer   \n",
       "785648  Data Scientist  Director Data Scientist - Commercial Platforms...   \n",
       "785692  Data Scientist               Data Scientist- Hybrid Work Location   \n",
       "\n",
       "             job_location                                    job_via  \\\n",
       "92               Anywhere                               via LinkedIn   \n",
       "100     Mountain View, CA                               via LinkedIn   \n",
       "109              Anywhere                                 via Get.It   \n",
       "116              Anywhere                               via LinkedIn   \n",
       "146           Seattle, WA                               via LinkedIn   \n",
       "...                   ...                                        ...   \n",
       "785563      Pensacola, FL  via Navy Federal Credit Union - Talentify   \n",
       "785624    Mt Prospect, IL                            via Ai-Jobs.net   \n",
       "785641       New York, NY                                   via Dice   \n",
       "785648  Pleasant Hill, CA                            via Ai-Jobs.net   \n",
       "785692         Dayton, OH                            via Ai-Jobs.net   \n",
       "\n",
       "       job_schedule_type  job_work_from_home            search_location  \\\n",
       "92             Full-time                True    Illinois, United States   \n",
       "100            Full-time               False  California, United States   \n",
       "109            Full-time                True    Illinois, United States   \n",
       "116            Full-time                True       Texas, United States   \n",
       "146            Full-time               False  California, United States   \n",
       "...                  ...                 ...                        ...   \n",
       "785563         Full-time               False     Florida, United States   \n",
       "785624         Full-time               False    Illinois, United States   \n",
       "785641         Full-time               False                    Georgia   \n",
       "785648         Full-time               False  California, United States   \n",
       "785692         Full-time               False    Illinois, United States   \n",
       "\n",
       "           job_posted_date  job_no_degree_mention  job_health_insurance  \\\n",
       "92     2023-02-21 13:29:59                  False                  True   \n",
       "100    2023-07-31 13:01:18                  False                  True   \n",
       "109    2023-10-12 13:02:19                  False                  True   \n",
       "116    2023-10-04 13:04:23                  False                 False   \n",
       "146    2023-10-21 13:06:16                  False                  True   \n",
       "...                    ...                    ...                   ...   \n",
       "785563 2023-01-11 06:22:10                  False                 False   \n",
       "785624 2023-08-31 06:02:16                  False                  True   \n",
       "785641 2023-01-04 16:36:07                   True                 False   \n",
       "785648 2023-04-12 06:02:51                  False                  True   \n",
       "785692 2023-04-21 06:02:31                  False                  True   \n",
       "\n",
       "          job_country salary_rate  salary_year_avg  salary_hour_avg  \\\n",
       "92      United States        year         120000.0              NaN   \n",
       "100     United States        year         228222.0              NaN   \n",
       "109     United States        year          89000.0              NaN   \n",
       "116     United States        year         114000.0              NaN   \n",
       "146     United States        year         129500.0              NaN   \n",
       "...               ...         ...              ...              ...   \n",
       "785563  United States        year         136400.0              NaN   \n",
       "785624  United States        year         139216.0              NaN   \n",
       "785641  United States        year         150000.0              NaN   \n",
       "785648  United States        year         221875.0              NaN   \n",
       "785692  United States        year         157500.0              NaN   \n",
       "\n",
       "                           company_name  \\\n",
       "92                         Apex Systems   \n",
       "100                              TikTok   \n",
       "109     Get It Recruit - Transportation   \n",
       "116                  4 Corner Resources   \n",
       "146                           ByteDance   \n",
       "...                                 ...   \n",
       "785563        Navy Federal Credit Union   \n",
       "785624                      Bosch Group   \n",
       "785641            Engage Partners, Inc.   \n",
       "785648                           84.51°   \n",
       "785692                           Tenet3   \n",
       "\n",
       "                                               job_skills  \\\n",
       "92                                          [sql, python]   \n",
       "100                             [sql, r, python, express]   \n",
       "109                         [python, r, alteryx, tableau]   \n",
       "116       [r, python, sql, t-sql, hadoop, spark, tableau]   \n",
       "146          [golang, scala, python, java, hadoop, spark]   \n",
       "...                                                   ...   \n",
       "785563  [r, python, matplotlib, ggplot2, spark, word, ...   \n",
       "785624  [go, python, r, sql, oracle, windows, alteryx,...   \n",
       "785641                                               None   \n",
       "785648                  [python, azure, snowflake, spark]   \n",
       "785692                                [python, matlab, r]   \n",
       "\n",
       "                                          job_type_skills  \n",
       "92                     {'programming': ['sql', 'python']}  \n",
       "100     {'programming': ['sql', 'r', 'python'], 'webfr...  \n",
       "109     {'analyst_tools': ['alteryx', 'tableau'], 'pro...  \n",
       "116     {'analyst_tools': ['tableau'], 'libraries': ['...  \n",
       "146     {'libraries': ['hadoop', 'spark'], 'programmin...  \n",
       "...                                                   ...  \n",
       "785563  {'analyst_tools': ['word', 'power bi', 'tablea...  \n",
       "785624  {'analyst_tools': ['alteryx', 'power bi', 'tab...  \n",
       "785641                                               None  \n",
       "785648  {'cloud': ['azure', 'snowflake'], 'libraries':...  \n",
       "785692         {'programming': ['python', 'matlab', 'r']}  \n",
       "\n",
       "[15766 rows x 17 columns]"
      ]
     },
     "metadata": {},
     "output_type": "display_data"
    }
   ],
   "source": [
    "df_US = df[(df['job_country'] =='United States')].dropna(subset=['salary_year_avg'])"
   ]
  },
  {
   "cell_type": "markdown",
   "metadata": {},
   "source": [
    "### Get the top 6 jobs by count"
   ]
  },
  {
   "cell_type": "code",
   "execution_count": null,
   "metadata": {},
   "outputs": [
    {
     "data": {
      "text/plain": [
       "['Data Scientist',\n",
       " 'Data Analyst',\n",
       " 'Data Engineer',\n",
       " 'Senior Data Scientist',\n",
       " 'Senior Data Engineer',\n",
       " 'Senior Data Analyst']"
      ]
     },
     "metadata": {},
     "output_type": "display_data"
    }
   ],
   "source": [
    "job_titles = df_US['job_title_short'].value_counts().index[:6].to_list()\n",
    "job_titles"
   ]
  },
  {
   "cell_type": "markdown",
   "metadata": {},
   "source": [
    "### Filter the data with the top 6 job titles"
   ]
  },
  {
   "cell_type": "code",
   "execution_count": null,
   "metadata": {},
   "outputs": [],
   "source": [
    "df_US_top6 = df_US[df_US['job_title_short'].isin(job_titles)]"
   ]
  },
  {
   "cell_type": "markdown",
   "metadata": {},
   "source": [
    "### Calculate the median salary for each job and sort them"
   ]
  },
  {
   "cell_type": "code",
   "execution_count": null,
   "metadata": {},
   "outputs": [],
   "source": [
    "job_top6_order = df_US_top6.groupby('job_title_short')['salary_year_avg'].median().sort_values(ascending=False).index"
   ]
  },
  {
   "cell_type": "markdown",
   "metadata": {},
   "source": [
    "### Plot the salary distribution of Data jobs in US"
   ]
  },
  {
   "cell_type": "code",
   "execution_count": null,
   "metadata": {},
   "outputs": [
    {
     "data": {
      "text/plain": [
       "Text(0, 0.5, '')"
      ]
     },
     "metadata": {},
     "output_type": "display_data"
    },
    {
     "data": {
      "image/png": "[encoded data removed]",
      "text/plain": [
       "<Figure size 640x480 with 1 Axes>"
      ]
     },
     "metadata": {},
     "output_type": "display_data"
    }
   ],
   "source": [
    "sns.boxplot(df_US_top6, x='salary_year_avg', y='job_title_short', order=job_top6_order)\n",
    "sns.set_theme(style='ticks')\n",
    "ax = plt.gca()\n",
    "ax.xaxis.set_major_formatter(plt.FuncFormatter(lambda x, pos : f'${int(x/1000)}K'))\n",
    "plt.title('Salary Distribution of Job Titles')\n",
    "plt.xlim(0,600000)\n",
    "plt.xlabel('Yearly Salary')\n",
    "plt.ylabel('')"
   ]
  },
  {
   "cell_type": "markdown",
   "metadata": {},
   "source": [
    "## Median Salary Vs Skills for Data Analysts"
   ]
  },
  {
   "cell_type": "markdown",
   "metadata": {},
   "source": [
    "### Filter the Data Analyst jobs in United States"
   ]
  },
  {
   "cell_type": "markdown",
   "metadata": {},
   "source": [
    "df_DA_US = df[(df['job_country'] == 'United States') & (df['job_title_short'] =='Data Analyst')].copy()\n",
    "df_DA_US = df_DA_US.dropna(subset=['salary_year_avg'])"
   ]
  },
  {
   "cell_type": "markdown",
   "metadata": {},
   "source": [
    "### Explode the skills"
   ]
  },
  {
   "cell_type": "code",
   "execution_count": null,
   "metadata": {},
   "outputs": [
    {
     "data": {
      "text/html": [
       "<div>\n",
       "<style scoped>\n",
       "    .dataframe tbody tr th:only-of-type {\n",
       "        vertical-align: middle;\n",
       "    }\n",
       "\n",
       "    .dataframe tbody tr th {\n",
       "        vertical-align: top;\n",
       "    }\n",
       "\n",
       "    .dataframe thead th {\n",
       "        text-align: right;\n",
       "    }\n",
       "</style>\n",
       "<table border=\"1\" class=\"dataframe\">\n",
       "  <thead>\n",
       "    <tr style=\"text-align: right;\">\n",
       "      <th></th>\n",
       "      <th>salary_year_avg</th>\n",
       "      <th>job_skills</th>\n",
       "    </tr>\n",
       "  </thead>\n",
       "  <tbody>\n",
       "    <tr>\n",
       "      <th>109</th>\n",
       "      <td>89000.0</td>\n",
       "      <td>python</td>\n",
       "    </tr>\n",
       "    <tr>\n",
       "      <th>109</th>\n",
       "      <td>89000.0</td>\n",
       "      <td>r</td>\n",
       "    </tr>\n",
       "    <tr>\n",
       "      <th>109</th>\n",
       "      <td>89000.0</td>\n",
       "      <td>alteryx</td>\n",
       "    </tr>\n",
       "    <tr>\n",
       "      <th>109</th>\n",
       "      <td>89000.0</td>\n",
       "      <td>tableau</td>\n",
       "    </tr>\n",
       "    <tr>\n",
       "      <th>180</th>\n",
       "      <td>90250.0</td>\n",
       "      <td>excel</td>\n",
       "    </tr>\n",
       "    <tr>\n",
       "      <th>180</th>\n",
       "      <td>90250.0</td>\n",
       "      <td>powerpoint</td>\n",
       "    </tr>\n",
       "  </tbody>\n",
       "</table>\n",
       "</div>"
      ],
      "text/plain": [
       "     salary_year_avg  job_skills\n",
       "109          89000.0      python\n",
       "109          89000.0           r\n",
       "109          89000.0     alteryx\n",
       "109          89000.0     tableau\n",
       "180          90250.0       excel\n",
       "180          90250.0  powerpoint"
      ]
     },
     "metadata": {},
     "output_type": "display_data"
    }
   ],
   "source": [
    "df_DA_US = df_DA_US.explode('job_skills')\n",
    "df_DA_US[['salary_year_avg','job_skills']].head(6)"
   ]
  },
  {
   "cell_type": "markdown",
   "metadata": {},
   "source": [
    "### Group by job skills to get median salary and count of skills for each job\n",
    "\n",
    "Get the top 10 top paid jobs."
   ]
  },
  {
   "cell_type": "code",
   "execution_count": null,
   "metadata": {},
   "outputs": [],
   "source": [
    "df_DA_US_top_pay = df_DA_US.groupby('job_skills')['salary_year_avg'].agg(['count','median']).sort_values(by='median',ascending=False)\n",
    "df_DA_US_top_pay = df_DA_US_top_pay.head(10)"
   ]
  },
  {
   "cell_type": "markdown",
   "metadata": {},
   "source": [
    "Get the top demanded skills."
   ]
  },
  {
   "cell_type": "code",
   "execution_count": null,
   "metadata": {},
   "outputs": [],
   "source": [
    "df_DA_US_top_skill = df_DA_US.groupby('job_skills')['salary_year_avg'].agg(['count','median']).sort_values(by='count',ascending=False)\n",
    "df_DA_US_top_skill = df_DA_US_top_skill.head(10).sort_values(by='median',ascending=False)"
   ]
  },
  {
   "cell_type": "markdown",
   "metadata": {},
   "source": [
    "### Plot the median salary vs skills comparison"
   ]
  },
  {
   "cell_type": "code",
   "execution_count": null,
   "metadata": {},
   "outputs": [
    {
     "data": {
      "image/png": "[encoded data removed]",
      "text/plain": [
       "<Figure size 640x480 with 2 Axes>"
      ]
     },
     "metadata": {},
     "output_type": "display_data"
    }
   ],
   "source": [
    "fig , ax = plt.subplots(2,1)\n",
    "sns.set_theme(style='ticks')\n",
    "#df_DA_US_top_pay.plot(kind='barh', y ='median', ax=ax[0], legend=False)\n",
    "sns.barplot(data=df_DA_US_top_pay, x='median',y=df_DA_US_top_pay.index, ax=ax[0], hue='median', palette=\"dark:b_r\", legend=False)\n",
    "ax[0].set_title('Top 10 Highest Paid Skills for Data Analyst')\n",
    "ax[0].set_xlabel('')\n",
    "ax[0].set_ylabel('')\n",
    "\n",
    "#df_DA_US_top_skills.plot(kind='barh', y ='median', ax=ax[1], legend=False)\n",
    "sns.barplot(data=df_DA_US_top_skill, x='median',y=df_DA_US_top_skill.index, ax=ax[1], hue='median', palette=\"light:b\", legend=False)\n",
    "ax[1].set_title('Top 10 Highest Most In-demand Skills for Data Analyst')\n",
    "ax[1].set_xlabel('Median Salary ($ USD)')\n",
    "ax[1].set_ylabel('')\n",
    "ax[1].set_xlim(ax[0].get_xlim())\n",
    "fig.tight_layout()"
   ]
  }
 ],
 "metadata": {
  "language_info": {
   "name": "python"
  }
 },
 "nbformat": 4,
 "nbformat_minor": 2
}
